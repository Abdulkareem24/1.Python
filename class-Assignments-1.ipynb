{
 "cells": [
  {
   "cell_type": "code",
   "execution_count": 7,
   "metadata": {},
   "outputs": [],
   "source": [
    "class SubfieldsInAI():    \n",
    "    def Subfields():\n",
    "        print(\"\"\"\n",
    "        Sub-fields in AI are:\n",
    "        Machine Learning\n",
    "        Neural Networks\n",
    "        Vision\n",
    "        Robotics\n",
    "        Speech Processing\n",
    "        Natural Language Processing\n",
    "        \"\"\") "
   ]
  },
  {
   "cell_type": "code",
   "execution_count": 8,
   "metadata": {},
   "outputs": [
    {
     "name": "stdout",
     "output_type": "stream",
     "text": [
      "\n",
      "        Sub-fields in AI are:\n",
      "        Machine Learning\n",
      "        Neural Networks\n",
      "        Vision\n",
      "        Robotics\n",
      "        Speech Processing\n",
      "        Natural Language Processing\n",
      "        \n"
     ]
    }
   ],
   "source": [
    "SubfieldsInAI.Subfields()"
   ]
  },
  {
   "cell_type": "code",
   "execution_count": 9,
   "metadata": {},
   "outputs": [],
   "source": [
    "class OddEven():  \n",
    "    def OddEven():\n",
    "        num=int(input(\"Enter a number:\"))\n",
    "        if((num%2)==0):\n",
    "            print(num,\"is Even number\")\n",
    "            message=num,\"is Even number\"\n",
    "        else:        \n",
    "            print(num,\"is odd number\")\n",
    "            message=num,\"is odd number\"\n",
    "        return message"
   ]
  },
  {
   "cell_type": "code",
   "execution_count": 10,
   "metadata": {},
   "outputs": [
    {
     "name": "stdout",
     "output_type": "stream",
     "text": [
      "Enter a number:85\n",
      "85 is odd number\n"
     ]
    },
    {
     "data": {
      "text/plain": [
       "(85, 'is odd number')"
      ]
     },
     "execution_count": 10,
     "metadata": {},
     "output_type": "execute_result"
    }
   ],
   "source": [
    "OddEven.OddEven()"
   ]
  },
  {
   "cell_type": "code",
   "execution_count": 12,
   "metadata": {},
   "outputs": [],
   "source": [
    "class ElegiblityForMarriage():\n",
    "    def Elegible():  \n",
    "        gender=input(\"Enter your gender: \").lower()\n",
    "        age=int(input(\"Enter your age: \"))\n",
    "        if (gender in (\"male\",\"m\")):\n",
    "            if(age >= 21):\n",
    "                print(\"ELIGIBLE\")\n",
    "            else:\n",
    "                print(\"NOT ELIGIBLE\")\n",
    "        elif (gender in (\"female\",\"f\")):\n",
    "            if(age >= 18):\n",
    "                print(\"ELIGIBLE\")\n",
    "            else:\n",
    "                 print(\"NOT ELIGIBLE\")\n",
    "        else:\n",
    "              print('INVALID INPUT DATA')\n"
   ]
  },
  {
   "cell_type": "code",
   "execution_count": 14,
   "metadata": {},
   "outputs": [
    {
     "name": "stdout",
     "output_type": "stream",
     "text": [
      "Enter your gender: male\n",
      "Enter your age: 23\n",
      "ELIGIBLE\n"
     ]
    }
   ],
   "source": [
    "ElegiblityForMarriage.Elegible()"
   ]
  },
  {
   "cell_type": "code",
   "execution_count": 15,
   "metadata": {},
   "outputs": [],
   "source": [
    "class FindPercent():\n",
    "    def percentage():\n",
    "        Sub1=int(input(\"Subject1=\"))\n",
    "        Sub2=int(input(\"Subject2=\"))\n",
    "        Sub3=int(input(\"Subject3=\"))\n",
    "        Sub4=int(input(\"Subject1=\"))\n",
    "        Sub5=int(input(\"Subject5=\"))\n",
    "        T=(Sub1+Sub2+Sub3+Sub4+Sub5)\n",
    "        print(\"Total:\",T)\n",
    "        P=T/5\n",
    "        print(\"Percentage:\",float(P))"
   ]
  },
  {
   "cell_type": "code",
   "execution_count": 16,
   "metadata": {},
   "outputs": [
    {
     "name": "stdout",
     "output_type": "stream",
     "text": [
      "Subject1=98\n",
      "Subject2=87\n",
      "Subject3=95\n",
      "Subject1=95\n",
      "Subject5=93\n",
      "Total: 468\n",
      "Percentage: 93.6\n"
     ]
    }
   ],
   "source": [
    "FindPercent.percentage()"
   ]
  },
  {
   "cell_type": "code",
   "execution_count": null,
   "metadata": {},
   "outputs": [],
   "source": []
  }
 ],
 "metadata": {
  "kernelspec": {
   "display_name": "Python 3",
   "language": "python",
   "name": "python3"
  },
  "language_info": {
   "codemirror_mode": {
    "name": "ipython",
    "version": 3
   },
   "file_extension": ".py",
   "mimetype": "text/x-python",
   "name": "python",
   "nbconvert_exporter": "python",
   "pygments_lexer": "ipython3",
   "version": "3.7.4"
  }
 },
 "nbformat": 4,
 "nbformat_minor": 2
}
