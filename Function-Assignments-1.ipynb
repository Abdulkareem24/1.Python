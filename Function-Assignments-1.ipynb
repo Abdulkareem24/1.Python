{
 "cells": [
  {
   "cell_type": "code",
   "execution_count": 15,
   "metadata": {},
   "outputs": [],
   "source": [
    "def Subfields():\n",
    "    print(\"\"\"\n",
    "    Sub-fields in AI are:\n",
    "    Machine Learning\n",
    "    Neural Networks\n",
    "    Vision\n",
    "    Robotics\n",
    "    Speech Processing\n",
    "    Natural Language Processing\n",
    "    \"\"\") \n",
    "\n"
   ]
  },
  {
   "cell_type": "code",
   "execution_count": 17,
   "metadata": {},
   "outputs": [
    {
     "name": "stdout",
     "output_type": "stream",
     "text": [
      "\n",
      "    Sub-fields in AI are:\n",
      "    Machine Learning\n",
      "    Neural Networks\n",
      "    Vision\n",
      "    Robotics\n",
      "    Speech Processing\n",
      "    Natural Language Processing\n",
      "    \n"
     ]
    }
   ],
   "source": [
    "Subfields()\n"
   ]
  },
  {
   "cell_type": "code",
   "execution_count": 7,
   "metadata": {},
   "outputs": [],
   "source": [
    "#Enter a number: 4\n",
    "#4 is Even number\n",
    "\n",
    "def OddEven():\n",
    "    num=int(input(\"Enter a number:\"))\n",
    "    if((num%2)==0):\n",
    "        print(num,\"is Even number\")\n",
    "        message=num,\"is Even number\"\n",
    "    else:        \n",
    "        print(num,\"is odd number\")\n",
    "        message=num,\"is odd number\"\n",
    "    return message\n",
    "    \n",
    "    \n",
    "    \n",
    "    "
   ]
  },
  {
   "cell_type": "code",
   "execution_count": 12,
   "metadata": {},
   "outputs": [
    {
     "name": "stdout",
     "output_type": "stream",
     "text": [
      "Enter a number:4\n",
      "4 is Even number\n"
     ]
    },
    {
     "data": {
      "text/plain": [
       "(4, 'is Even number')"
      ]
     },
     "execution_count": 12,
     "metadata": {},
     "output_type": "execute_result"
    }
   ],
   "source": [
    "OddEven()\n"
   ]
  },
  {
   "cell_type": "code",
   "execution_count": 15,
   "metadata": {},
   "outputs": [],
   "source": [
    "#Your Gender:Male\n",
    "#Your Age:18\n",
    "#NOT ELIGIBLE\n",
    "\n",
    "def eligible():  \n",
    "    gender=input(\"Enter your gender: \").lower()\n",
    "    age=int(input(\"Enter your age: \"))\n",
    "    if (gender in (\"male\",\"m\")):\n",
    "        if(age >= 21):\n",
    "            print(\"ELIGIBLE\")\n",
    "        else:\n",
    "            print(\"NOT ELIGIBLE\")\n",
    "    elif (gender in (\"female\",\"f\")):\n",
    "        if(age >= 18):\n",
    "            print(\"ELIGIBLE\")\n",
    "        else:\n",
    "             print(\"NOT ELIGIBLE\")\n",
    "    else:\n",
    "          print('INVALID INPUT DATA')\n",
    "\n",
    "\n",
    "\n"
   ]
  },
  {
   "cell_type": "code",
   "execution_count": 17,
   "metadata": {},
   "outputs": [
    {
     "name": "stdout",
     "output_type": "stream",
     "text": [
      "Enter your gender: Male\n",
      "Enter your age: 18\n",
      "NOT ELIGIBLE\n"
     ]
    }
   ],
   "source": [
    "eligible()"
   ]
  },
  {
   "cell_type": "code",
   "execution_count": 31,
   "metadata": {},
   "outputs": [],
   "source": [
    "#Subject1= 23\n",
    "#Subject2= 45\n",
    "#Subject3= 34\n",
    "#Subject4= 23\n",
    "#Subject5= 23\n",
    "#Total :  148\n",
    "#Percentage :  29.5999999999999981\n",
    "\n",
    "def percentage():\n",
    "    Sub1=int(input(\"Subject1=\"))\n",
    "    Sub2=int(input(\"Subject2=\"))\n",
    "    Sub3=int(input(\"Subject3=\"))\n",
    "    Sub4=int(input(\"Subject1=\"))\n",
    "    Sub5=int(input(\"Subject5=\"))\n",
    "    T=(Sub1+Sub2+Sub3+Sub4+Sub5)\n",
    "    print(\"Total:\",T)\n",
    "    P=T/5\n",
    "    print(\"Percentage:\",float(P))"
   ]
  },
  {
   "cell_type": "code",
   "execution_count": 32,
   "metadata": {
    "scrolled": true
   },
   "outputs": [
    {
     "name": "stdout",
     "output_type": "stream",
     "text": [
      "Subject1=23\n",
      "Subject2=45\n",
      "Subject3=34\n",
      "Subject1=23\n",
      "Subject5=23\n",
      "Total: 148\n",
      "Percentage: 29.6\n"
     ]
    }
   ],
   "source": [
    "percentage()"
   ]
  },
  {
   "cell_type": "markdown",
   "metadata": {},
   "source": []
  },
  {
   "cell_type": "code",
   "execution_count": 3,
   "metadata": {},
   "outputs": [],
   "source": [
    "def triangle():\n",
    "    H=int(input(\"Height:\"))\n",
    "    B=int(input(\"Breadth:\"))\n",
    "    print(\"Area formula: (Height*Breadth)/2\")\n",
    "    A=(H*B/2)\n",
    "    print(\"Area of Triangle:\",A)\n",
    "    H1=int(input(\"Height1:\"))\n",
    "    H2=int(input(\"Height2:\"))\n",
    "    B1=int(input(\"Breadth:\"))\n",
    "    print(\"Perimeter formula: Height1+Height2+Breadth\")\n",
    "    P=(H1+H2+B1)\n",
    "    print(\"Perimeter of Triangle:\",P)\n",
    "    \n",
    "    "
   ]
  },
  {
   "cell_type": "code",
   "execution_count": 4,
   "metadata": {},
   "outputs": [
    {
     "name": "stdout",
     "output_type": "stream",
     "text": [
      "Height:3\n",
      "Breadth:4\n",
      "Area formula: (Height*Breadth)/2\n",
      "Area of Triangle: 6.0\n",
      "Height1:3\n",
      "Height2:4\n",
      "Breadth:45\n",
      "Perimeter formula: Height1+Height2+Breadth\n",
      "Perimeter of Triangle: 52\n"
     ]
    }
   ],
   "source": [
    "triangle()"
   ]
  },
  {
   "cell_type": "code",
   "execution_count": null,
   "metadata": {},
   "outputs": [],
   "source": []
  }
 ],
 "metadata": {
  "kernelspec": {
   "display_name": "Python 3",
   "language": "python",
   "name": "python3"
  },
  "language_info": {
   "codemirror_mode": {
    "name": "ipython",
    "version": 3
   },
   "file_extension": ".py",
   "mimetype": "text/x-python",
   "name": "python",
   "nbconvert_exporter": "python",
   "pygments_lexer": "ipython3",
   "version": "3.7.4"
  }
 },
 "nbformat": 4,
 "nbformat_minor": 2
}
